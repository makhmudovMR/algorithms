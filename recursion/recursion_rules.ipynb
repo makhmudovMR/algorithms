{
 "cells": [
  {
   "cell_type": "markdown",
   "metadata": {},
   "source": [
    "# RECURSION RULES (ПРАВИЛА РЕКУРСИИ)"
   ]
  },
  {
   "cell_type": "markdown",
   "metadata": {},
   "source": [
    "1. Начинаем с конца\n",
    "\n",
    "    Когда мы пишем какой нибудь алгоритм мы обычно спрашиваем какой будет первый шаг второй шаг третий и тд, в случае рекурсии мы спрашиаем какой будет самый последный шаг потом спрашиваем какие будут предидущие шаги(начинам с последнего потом с предпоследнего предпредпоследнего и тд)(все данные возвращаются в обратном порядке)"
   ]
  },
  {
   "cell_type": "markdown",
   "metadata": {},
   "source": [
    "2. Выразить все остальные как рекурсию\n",
    "    \n",
    "    "
   ]
  },
  {
   "cell_type": "code",
   "execution_count": null,
   "metadata": {
    "collapsed": true
   },
   "outputs": [],
   "source": [
    "def rec(alist):\n",
    "    print(alist)\n",
    "    if len(alist) <= 1:\n",
    "        return alist\n",
    "    return rec(alist[1:])\n",
    "\n",
    "rec([1,2,3,4,5,6,7,8])"
   ]
  },
  {
   "cell_type": "code",
   "execution_count": null,
   "metadata": {
    "collapsed": true
   },
   "outputs": [],
   "source": []
  },
  {
   "cell_type": "code",
   "execution_count": null,
   "metadata": {
    "collapsed": true
   },
   "outputs": [],
   "source": []
  }
 ],
 "metadata": {
  "kernelspec": {
   "display_name": "Python 3",
   "language": "python",
   "name": "python3"
  },
  "language_info": {
   "codemirror_mode": {
    "name": "ipython",
    "version": 3
   },
   "file_extension": ".py",
   "mimetype": "text/x-python",
   "name": "python",
   "nbconvert_exporter": "python",
   "pygments_lexer": "ipython3",
   "version": "3.6.3"
  }
 },
 "nbformat": 4,
 "nbformat_minor": 2
}
