{
 "cells": [
  {
   "cell_type": "markdown",
   "metadata": {},
   "source": [
    "<h3 style=\"color:#0b078f; float:right\">Makhmudov. M</h3>"
   ]
  },
  {
   "cell_type": "markdown",
   "metadata": {},
   "source": [
    "# QUICK SORT"
   ]
  },
  {
   "cell_type": "code",
   "execution_count": 30,
   "metadata": {},
   "outputs": [
    {
     "name": "stdout",
     "output_type": "stream",
     "text": [
      "[1] [2] [3, 4]\n"
     ]
    },
    {
     "data": {
      "text/plain": [
       "[1, 2, 3, 4]"
      ]
     },
     "execution_count": 30,
     "metadata": {},
     "output_type": "execute_result"
    }
   ],
   "source": [
    "def qs(lst=[3,1,4,2]):\n",
    "    \n",
    "    less = []\n",
    "    equal = []\n",
    "    large = []\n",
    "    \n",
    "    \n",
    "    \n",
    "    if len(lst) > 1:\n",
    "        pivot = len(lst) // 2\n",
    "        for i in lst:\n",
    "            if i < pivot:\n",
    "                less.append(i)\n",
    "            if i == pivot:\n",
    "                equal.append(i)\n",
    "            if i > pivot:\n",
    "                large.append(i)\n",
    "        print(less, equal, large)\n",
    "        return sort(less) + equal + sort(large)\n",
    "    else:\n",
    "        return lst\n",
    "\n",
    "qs()"
   ]
  },
  {
   "cell_type": "code",
   "execution_count": null,
   "metadata": {
    "collapsed": true
   },
   "outputs": [],
   "source": []
  }
 ],
 "metadata": {
  "kernelspec": {
   "display_name": "Python 3",
   "language": "python",
   "name": "python3"
  },
  "language_info": {
   "codemirror_mode": {
    "name": "ipython",
    "version": 3
   },
   "file_extension": ".py",
   "mimetype": "text/x-python",
   "name": "python",
   "nbconvert_exporter": "python",
   "pygments_lexer": "ipython3",
   "version": "3.6.3"
  }
 },
 "nbformat": 4,
 "nbformat_minor": 2
}
