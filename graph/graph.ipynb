{
 "cells": [
  {
   "cell_type": "markdown",
   "metadata": {},
   "source": [
    "#### makhmudov"
   ]
  },
  {
   "cell_type": "markdown",
   "metadata": {},
   "source": [
    "# GRAPH\n"
   ]
  },
  {
   "cell_type": "code",
   "execution_count": 3,
   "metadata": {
    "collapsed": true
   },
   "outputs": [],
   "source": [
    "class Vertex(object):\n",
    "    '''Класс вершины'''\n",
    "    \n",
    "    def __init__(self, key):\n",
    "        self.id = key\n",
    "        self.connectedTo = {}\n",
    "        \n",
    "    def addNeighbor(self, nbr, weight=0):\n",
    "        '''добовляем путь/дорогу/ребро к вершине с весом'''\n",
    "        self.connectedTo[nbr] = weight\n",
    "    \n",
    "    def __str__(self):\n",
    "        return str(self.id)+\"|connectedTo:\" + str([x for x in self.connectedTo])\n",
    "    \n",
    "    def getConnections(self):\n",
    "        return self.connectedTo.keys()\n",
    "    \n",
    "    def getId(self):\n",
    "        return self.id\n",
    "    \n",
    "    def getWeight(self, nbr):\n",
    "        return connectedTo[nbr]\n",
    "    \n",
    "    "
   ]
  },
  {
   "cell_type": "code",
   "execution_count": 4,
   "metadata": {},
   "outputs": [
    {
     "name": "stdout",
     "output_type": "stream",
     "text": [
      "1|connectedTo:[1]\n"
     ]
    }
   ],
   "source": [
    "v1=Vertex(1)\n",
    "v1.addNeighbor(1,10)\n",
    "print(v1)"
   ]
  },
  {
   "cell_type": "code",
   "execution_count": 28,
   "metadata": {},
   "outputs": [],
   "source": [
    "class Graph(object):\n",
    "    '''Класс графа'''\n",
    "    '''P.S Будет состоять из вершин'''\n",
    "    def __init__(self):\n",
    "        self.vertexList = {}\n",
    "        self.numVertex = 0\n",
    "        \n",
    "    def addVertex(self, key):\n",
    "        self.numVertex = self.numVertex+1\n",
    "        v=Vertex(key)\n",
    "        self.vertexList[key] = v\n",
    "        return v\n",
    "    \n",
    "    def getVertex(self, n):\n",
    "        if n in self.vertexList:\n",
    "            return self.vertexList[n]\n",
    "        else:\n",
    "            return None\n",
    "        \n",
    "    def addEdge(self, from_, to_, const = 0):\n",
    "        if from_ not in self.vertexList:\n",
    "            nv = self.addVertex(from_)\n",
    "        if to_ not in self.vertexList:\n",
    "            nv2 = self.addVertex(to_)\n",
    "        self.vertexList[from_].addNeighbor(to_, const)\n",
    "        \n",
    "    def __contains__(self,n):\n",
    "        return n in self.vertexList\n",
    "    \n",
    "    def __iter__(self):\n",
    "        return iter(self.vertexList.values())\n",
    "    \n",
    "    "
   ]
  },
  {
   "cell_type": "code",
   "execution_count": 30,
   "metadata": {},
   "outputs": [
    {
     "name": "stdout",
     "output_type": "stream",
     "text": [
      "{1: <__main__.Vertex object at 0x000002004C7FCE10>, 2: <__main__.Vertex object at 0x000002004C7FC160>, 3: <__main__.Vertex object at 0x000002004C7FCC88>, 0: <__main__.Vertex object at 0x000002004C7FC668>}\n",
      "1|connectedTo:[]\n",
      "2|connectedTo:[1]\n",
      "3|connectedTo:[]\n",
      "0|connectedTo:[2]\n"
     ]
    }
   ],
   "source": [
    "g = Graph()\n",
    "#add Vertex\n",
    "g.addVertex(1)\n",
    "g.addVertex(2)\n",
    "g.addVertex(3)\n",
    "\n",
    "#add links\n",
    "g.addEdge(0,2,0)\n",
    "g.addEdge(2,1,0)\n",
    "\n",
    "print(g.vertexList)\n",
    "\n",
    "for v in g:\n",
    "    print(v)"
   ]
  },
  {
   "cell_type": "code",
   "execution_count": null,
   "metadata": {
    "collapsed": true
   },
   "outputs": [],
   "source": []
  }
 ],
 "metadata": {
  "kernelspec": {
   "display_name": "Python 3",
   "language": "python",
   "name": "python3"
  },
  "language_info": {
   "codemirror_mode": {
    "name": "ipython",
    "version": 3
   },
   "file_extension": ".py",
   "mimetype": "text/x-python",
   "name": "python",
   "nbconvert_exporter": "python",
   "pygments_lexer": "ipython3",
   "version": "3.6.3"
  }
 },
 "nbformat": 4,
 "nbformat_minor": 2
}
