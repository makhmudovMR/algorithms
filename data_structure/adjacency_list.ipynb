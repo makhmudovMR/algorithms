{
 "cells": [
  {
   "cell_type": "markdown",
   "metadata": {},
   "source": [
    "#### makhmudov"
   ]
  },
  {
   "cell_type": "markdown",
   "metadata": {},
   "source": [
    "# Adjacency list"
   ]
  },
  {
   "cell_type": "markdown",
   "metadata": {},
   "source": [
    "<img src=\"https://i.stack.imgur.com/8PQ2E.png\">"
   ]
  },
  {
   "cell_type": "code",
   "execution_count": 6,
   "metadata": {
    "collapsed": true
   },
   "outputs": [],
   "source": [
    "class AdjacencyList(object):\n",
    "    \n",
    "    def __init__(self):\n",
    "        self.list = {}\n",
    "        \n",
    "    def addEdge(self, fromV, toV):\n",
    "        if fromV in self.list.keys():\n",
    "            self.list[fromV].append(toV)\n",
    "        else:\n",
    "            self.list[fromV] = [toV]\n",
    "            \n",
    "    def printList(self):\n",
    "        for key in self.list:\n",
    "            print(\"--------------------\")\n",
    "            for vertex in self.list[key]:\n",
    "                print(\"{}->{}\".format(key, vertex))\n",
    "            \n",
    "    "
   ]
  },
  {
   "cell_type": "code",
   "execution_count": 7,
   "metadata": {},
   "outputs": [
    {
     "name": "stdout",
     "output_type": "stream",
     "text": [
      "--------------------\n",
      "0->1\n",
      "0->4\n",
      "--------------------\n",
      "4->1\n",
      "4->3\n",
      "--------------------\n",
      "1->0\n",
      "1->4\n",
      "1->3\n",
      "1->2\n",
      "--------------------\n",
      "2->3\n",
      "--------------------\n",
      "3->4\n"
     ]
    }
   ],
   "source": [
    "al = AdjacencyList()\n",
    "al.addEdge(0, 1)\n",
    "al.addEdge(0, 4)\n",
    "al.addEdge(4, 1)\n",
    "al.addEdge(4, 3)\n",
    "al.addEdge(1, 0)\n",
    "al.addEdge(1, 4)\n",
    "al.addEdge(1, 3)\n",
    "al.addEdge(1, 2)\n",
    "al.addEdge(2, 3)\n",
    "al.addEdge(3, 4)\n",
    "\n",
    "al.printList()"
   ]
  },
  {
   "cell_type": "code",
   "execution_count": null,
   "metadata": {
    "collapsed": true
   },
   "outputs": [],
   "source": []
  }
 ],
 "metadata": {
  "kernelspec": {
   "display_name": "Python 3",
   "language": "python",
   "name": "python3"
  },
  "language_info": {
   "codemirror_mode": {
    "name": "ipython",
    "version": 3
   },
   "file_extension": ".py",
   "mimetype": "text/x-python",
   "name": "python",
   "nbconvert_exporter": "python",
   "pygments_lexer": "ipython3",
   "version": "3.6.3"
  }
 },
 "nbformat": 4,
 "nbformat_minor": 2
}
